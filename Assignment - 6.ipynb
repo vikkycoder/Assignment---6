{
 "cells": [
  {
   "cell_type": "markdown",
   "id": "7d9a5a76-95c6-433f-8dad-6de96e5e26cb",
   "metadata": {},
   "source": [
    "### Q1. Explain Class and Object with respect to Object-Oriented Programming. Give a suitable example."
   ]
  },
  {
   "cell_type": "markdown",
   "id": "a9fa509f-b22e-4afd-a57e-3bd539439a8c",
   "metadata": {},
   "source": [
    "## Ans.\n",
    "In simple words classes and object are the fundamentals of building blocks in object oriented programing system . Which help us to implement several key concept in Oops.\n",
    "\n",
    "## Class :\n",
    "A class is a blueprint that defines the variables and methods that common to all object of a certain kind. It helps us to bind data and method together to making the code reusable.\n",
    "\n",
    "## Object :\n",
    "An object is a single instance of a class. Which contains data and method working on that data ."
   ]
  },
  {
   "cell_type": "code",
   "execution_count": 19,
   "id": "176fb9a7-54df-4f97-b827-efda8250575f",
   "metadata": {},
   "outputs": [],
   "source": [
    "## Example\n",
    "\n",
    "class samsung:\n",
    "    \n",
    "    def __init__(self,model_name,RAM,ROM):\n",
    "        self.model_name = model_name\n",
    "        self.RAM = RAM\n",
    "        self.ROM = ROM\n",
    "     \n",
    "    def mobile_features(self):\n",
    "        return self.model_name,self.RAM,self.ROM"
   ]
  },
  {
   "cell_type": "code",
   "execution_count": 20,
   "id": "93ecfaf1-a233-479a-8f11-3d6491421550",
   "metadata": {},
   "outputs": [],
   "source": [
    "Phone = samsung(\"galaxy\", \"8GB\", \"128GB\")"
   ]
  },
  {
   "cell_type": "code",
   "execution_count": 21,
   "id": "f4cc23a9-229f-4f1b-ac05-cf1a69dcb0fb",
   "metadata": {},
   "outputs": [
    {
     "data": {
      "text/plain": [
       "'galaxy'"
      ]
     },
     "execution_count": 21,
     "metadata": {},
     "output_type": "execute_result"
    }
   ],
   "source": [
    "Phone.model_name"
   ]
  },
  {
   "cell_type": "code",
   "execution_count": 22,
   "id": "a1e41007-beda-4655-8d58-fb111169f922",
   "metadata": {},
   "outputs": [
    {
     "data": {
      "text/plain": [
       "('galaxy', '8GB', '128GB')"
      ]
     },
     "execution_count": 22,
     "metadata": {},
     "output_type": "execute_result"
    }
   ],
   "source": [
    "Phone.mobile_features()"
   ]
  },
  {
   "cell_type": "markdown",
   "id": "174b5904-1952-4573-965b-740c00bb9849",
   "metadata": {},
   "source": [
    "### Q2. Name the four pillars of OOPs."
   ]
  },
  {
   "cell_type": "markdown",
   "id": "af1b3726-6656-4902-9e3a-a336ae37a586",
   "metadata": {},
   "source": [
    "## Ans.\n",
    "\n",
    "The four pillars of Oops are:\n",
    "\n",
    "1.Polymorphism\n",
    "\n",
    "2.Encapsulation\n",
    "\n",
    "3.Inheritance\n",
    "\n",
    "4.Abstraction"
   ]
  },
  {
   "cell_type": "markdown",
   "id": "75ed198e-a9ec-4881-8ac2-de0db7da2ac4",
   "metadata": {},
   "source": [
    "### Q3. Explain why the __init__() function is used. Give a suitable example."
   ]
  },
  {
   "cell_type": "markdown",
   "id": "9d481ac6-ba34-4ac6-88eb-58c8aaf4d0c3",
   "metadata": {},
   "source": [
    "## Ans.\n",
    "__init__ function is a special python method that run whenever we created new objects.These types of functions are used to initialize the attributes of that class.\n",
    "\n",
    "Example:\n",
    "If the class is Person, then the attributes will be name, age, etc."
   ]
  },
  {
   "cell_type": "code",
   "execution_count": 24,
   "id": "bd1a34b9-f3f9-4eb4-974d-a5f7d2f1881a",
   "metadata": {},
   "outputs": [],
   "source": [
    "class person:\n",
    "    \n",
    "     def __init__(self,name,age):\n",
    "            self.name = name\n",
    "            self.age = age"
   ]
  },
  {
   "cell_type": "code",
   "execution_count": 25,
   "id": "0359a25c-f9de-4f26-9df9-ff5ecad7631e",
   "metadata": {},
   "outputs": [],
   "source": [
    "Person = person(\"Vikky\",28)"
   ]
  },
  {
   "cell_type": "code",
   "execution_count": 26,
   "id": "6c1ce382-e355-448f-8d43-24254f42b80f",
   "metadata": {},
   "outputs": [
    {
     "data": {
      "text/plain": [
       "'Vikky'"
      ]
     },
     "execution_count": 26,
     "metadata": {},
     "output_type": "execute_result"
    }
   ],
   "source": [
    "Person.name"
   ]
  },
  {
   "cell_type": "code",
   "execution_count": 27,
   "id": "d4958dce-8b11-48a4-ada3-9849f956ba33",
   "metadata": {},
   "outputs": [
    {
     "data": {
      "text/plain": [
       "28"
      ]
     },
     "execution_count": 27,
     "metadata": {},
     "output_type": "execute_result"
    }
   ],
   "source": [
    "Person.age"
   ]
  },
  {
   "cell_type": "markdown",
   "id": "d69f0c9d-eb25-4d08-b0a3-49284bfc759c",
   "metadata": {},
   "source": [
    "### Q4. Why self is used in OOPs?"
   ]
  },
  {
   "cell_type": "markdown",
   "id": "273ad5b1-b08a-4cdc-94fe-d97d64c12fcf",
   "metadata": {},
   "source": [
    "### Ans.\n",
    "self represents the instance of the class. By using the “self” we can access the attributes and methods of the class in python. It binds the attributes with the given arguments."
   ]
  },
  {
   "cell_type": "markdown",
   "id": "9a10a1f9-9320-4671-b2d9-e76b9f399eac",
   "metadata": {},
   "source": [
    "### Q5. What is inheritance? Give an example for each type of inheritance."
   ]
  },
  {
   "cell_type": "markdown",
   "id": "93f1da65-ca1a-4397-a449-34588900b43d",
   "metadata": {},
   "source": [
    "## Ans.\n",
    "Iheritance is a  mechanisum which through we can aquire from one class property to another class.\n",
    "\n",
    "There are 4 kind of Inheritance :\n",
    "\n",
    "1.Single Iheritance\n",
    "\n",
    "2.Multiple Inheritance\n",
    "\n",
    "3.Multilevel Inheritance\n",
    "\n",
    "4.Hierarical Inheritance"
   ]
  },
  {
   "cell_type": "code",
   "execution_count": null,
   "id": "5da29b90-f033-44e0-b24b-b52dc2a4861d",
   "metadata": {},
   "outputs": [],
   "source": [
    "## Example : Single Inheritance"
   ]
  },
  {
   "cell_type": "code",
   "execution_count": 31,
   "id": "f999a61d-4aca-4031-81aa-4193ef27f6db",
   "metadata": {},
   "outputs": [],
   "source": [
    "class parent:\n",
    "    \n",
    "    def fun1(self):\n",
    "        print(\"this is my parent class\")"
   ]
  },
  {
   "cell_type": "code",
   "execution_count": 32,
   "id": "d905b2b1-db73-4a65-8261-99a6ed4ccd64",
   "metadata": {},
   "outputs": [],
   "source": [
    "class child(parent):\n",
    "    \n",
    "    def fun2(self):\n",
    "        print(\"this is my child class\")"
   ]
  },
  {
   "cell_type": "code",
   "execution_count": 37,
   "id": "7180183a-efca-42ff-83e0-7a9673ab8dab",
   "metadata": {},
   "outputs": [],
   "source": [
    "Child = child()"
   ]
  },
  {
   "cell_type": "code",
   "execution_count": 39,
   "id": "967d6e5f-1564-447e-9c64-f03e3f3687a4",
   "metadata": {},
   "outputs": [
    {
     "name": "stdout",
     "output_type": "stream",
     "text": [
      "this is my parent class\n"
     ]
    }
   ],
   "source": [
    "Child.fun1()"
   ]
  },
  {
   "cell_type": "code",
   "execution_count": 40,
   "id": "053c9d7d-3baf-4dc9-b644-fd2a85fc32a6",
   "metadata": {},
   "outputs": [
    {
     "name": "stdout",
     "output_type": "stream",
     "text": [
      "this is my child class\n"
     ]
    }
   ],
   "source": [
    "Child.fun2()"
   ]
  },
  {
   "cell_type": "code",
   "execution_count": 41,
   "id": "c852c947-b535-4197-8eb6-f5129ff9bb21",
   "metadata": {},
   "outputs": [],
   "source": [
    "### Example: Multiple Inheritance"
   ]
  },
  {
   "cell_type": "code",
   "execution_count": 47,
   "id": "8ab34876-e953-457c-8631-0951ffc6c206",
   "metadata": {},
   "outputs": [],
   "source": [
    "class Father:\n",
    "    father_name = \"Chunni Lal\"\n",
    "    \n",
    "    def father(self):\n",
    "        print(self.father_name)"
   ]
  },
  {
   "cell_type": "code",
   "execution_count": 48,
   "id": "7106e9c8-0135-43f1-b863-b07dd55466b2",
   "metadata": {},
   "outputs": [],
   "source": [
    "class Mother:\n",
    "    mother_name = \"Bhgwati Devi\"\n",
    "    \n",
    "    def mother(self):\n",
    "        print(self.mother_name)"
   ]
  },
  {
   "cell_type": "code",
   "execution_count": 66,
   "id": "a69c6cca-3890-474f-8575-ad2a77708b11",
   "metadata": {},
   "outputs": [],
   "source": [
    "class Son(Father,Mother):\n",
    "    son_name = \"Jagmohan Lal \"\n",
    "    \n",
    "    def parent_name(self):\n",
    "        print(\"Father:\" ,self.father_name)\n",
    "        print(\"Mother:\" ,self.mother_name )"
   ]
  },
  {
   "cell_type": "code",
   "execution_count": 67,
   "id": "4ee56388-6214-4289-9ff6-079b7e1c79bd",
   "metadata": {},
   "outputs": [],
   "source": [
    "s1 = Son()"
   ]
  },
  {
   "cell_type": "code",
   "execution_count": 74,
   "id": "003266e2-bb87-4f72-80b1-41d25b71f357",
   "metadata": {},
   "outputs": [
    {
     "data": {
      "text/plain": [
       "'Jagmohan Lal '"
      ]
     },
     "execution_count": 74,
     "metadata": {},
     "output_type": "execute_result"
    }
   ],
   "source": [
    "s1.son_name"
   ]
  },
  {
   "cell_type": "code",
   "execution_count": 69,
   "id": "40cc44c4-76f4-49d6-ac6a-4c4bb7f4b294",
   "metadata": {},
   "outputs": [
    {
     "data": {
      "text/plain": [
       "'Chunni Lal'"
      ]
     },
     "execution_count": 69,
     "metadata": {},
     "output_type": "execute_result"
    }
   ],
   "source": [
    "s1.father_name"
   ]
  },
  {
   "cell_type": "code",
   "execution_count": 70,
   "id": "635794fa-7bf0-4703-bad0-5df2b991502a",
   "metadata": {},
   "outputs": [
    {
     "data": {
      "text/plain": [
       "'Bhgwati Devi'"
      ]
     },
     "execution_count": 70,
     "metadata": {},
     "output_type": "execute_result"
    }
   ],
   "source": [
    "s1.mother_name"
   ]
  },
  {
   "cell_type": "code",
   "execution_count": 71,
   "id": "8e5d9a3a-4b7d-470c-928c-ca31544be40a",
   "metadata": {},
   "outputs": [
    {
     "name": "stdout",
     "output_type": "stream",
     "text": [
      "Chunni Lal\n"
     ]
    }
   ],
   "source": [
    "s1.father()"
   ]
  },
  {
   "cell_type": "code",
   "execution_count": 72,
   "id": "9d83d112-b8cd-453c-8fdc-0a1c20f18f3f",
   "metadata": {},
   "outputs": [
    {
     "name": "stdout",
     "output_type": "stream",
     "text": [
      "Father: Chunni Lal\n",
      "Mother: Bhgwati Devi\n"
     ]
    }
   ],
   "source": [
    "s1.parent_name()"
   ]
  },
  {
   "cell_type": "code",
   "execution_count": 73,
   "id": "792d1b72-0731-455d-85ad-548ae640ea80",
   "metadata": {},
   "outputs": [],
   "source": [
    "### Example : Multilevel Inheritance"
   ]
  },
  {
   "cell_type": "code",
   "execution_count": 75,
   "id": "eea3911f-53b6-4926-9f9f-b5ef917abf5a",
   "metadata": {},
   "outputs": [],
   "source": [
    "class Grand_father:\n",
    "    grand_father_name = \"Mani Chand\"\n",
    "    \n",
    "    def grand_father(self):\n",
    "        print(self.grand_father_name)   "
   ]
  },
  {
   "cell_type": "code",
   "execution_count": 76,
   "id": "3469d463-eadd-49f8-9765-aaa377c5375c",
   "metadata": {},
   "outputs": [],
   "source": [
    "class Father(Grand_father):\n",
    "    father_name = \"Kamal Chand\"\n",
    "    \n",
    "    def father(self):\n",
    "        print(self.father_name)"
   ]
  },
  {
   "cell_type": "code",
   "execution_count": 92,
   "id": "78e3cfc2-d6aa-4943-ad70-facf141f4019",
   "metadata": {},
   "outputs": [],
   "source": [
    "class Son(Father):\n",
    "    son_name = \"Hansh Chand\"\n",
    "    \n",
    "    def family_male_member(self):\n",
    "        print(\"Grand_father:\",self.grand_father_name)\n",
    "        print(\"Father:\",self.father_name)\n",
    "        print(\"Son:\",self.son_name)"
   ]
  },
  {
   "cell_type": "code",
   "execution_count": 93,
   "id": "3a5267f4-2822-4a88-a941-8b1e4984329f",
   "metadata": {},
   "outputs": [],
   "source": [
    "s2 = Son()"
   ]
  },
  {
   "cell_type": "code",
   "execution_count": 94,
   "id": "893be6dd-72f2-47bf-ac39-843325fa8d13",
   "metadata": {},
   "outputs": [
    {
     "data": {
      "text/plain": [
       "'Hansh Chand'"
      ]
     },
     "execution_count": 94,
     "metadata": {},
     "output_type": "execute_result"
    }
   ],
   "source": [
    "s2.son_name"
   ]
  },
  {
   "cell_type": "code",
   "execution_count": 95,
   "id": "f8d1dca7-3c1d-4b99-aaee-edb3ea8303ae",
   "metadata": {},
   "outputs": [
    {
     "data": {
      "text/plain": [
       "'Kamal Chand'"
      ]
     },
     "execution_count": 95,
     "metadata": {},
     "output_type": "execute_result"
    }
   ],
   "source": [
    "s2.father_name"
   ]
  },
  {
   "cell_type": "code",
   "execution_count": 96,
   "id": "882695ad-e20f-4281-97e4-040f11409b73",
   "metadata": {},
   "outputs": [
    {
     "data": {
      "text/plain": [
       "'Mani Chand'"
      ]
     },
     "execution_count": 96,
     "metadata": {},
     "output_type": "execute_result"
    }
   ],
   "source": [
    "s2.grand_father_name"
   ]
  },
  {
   "cell_type": "code",
   "execution_count": 97,
   "id": "9d73af0c-103c-4163-8a86-8193d4931171",
   "metadata": {},
   "outputs": [
    {
     "name": "stdout",
     "output_type": "stream",
     "text": [
      "Grand_father: Mani Chand\n",
      "Father: Kamal Chand\n",
      "Son: Hansh Chand\n"
     ]
    }
   ],
   "source": [
    "s2.family_male_member()"
   ]
  },
  {
   "cell_type": "code",
   "execution_count": 98,
   "id": "7b19c94c-606a-4031-b34f-57466e8c9241",
   "metadata": {},
   "outputs": [],
   "source": [
    "### Example : Hierarical Inheritance"
   ]
  },
  {
   "cell_type": "code",
   "execution_count": 100,
   "id": "0f885964-c490-4f96-9c72-86ff946eb1a9",
   "metadata": {},
   "outputs": [],
   "source": [
    "class parent1:\n",
    "    \n",
    "    def fun2(self):\n",
    "        print(\"this is my parent class\")"
   ]
  },
  {
   "cell_type": "code",
   "execution_count": 103,
   "id": "1ce1598c-9fee-4141-8187-4684b52c4ded",
   "metadata": {},
   "outputs": [],
   "source": [
    "class child1(parent1):\n",
    "    \n",
    "    def fun3(self):\n",
    "        print(\"this is my child 1 class\")"
   ]
  },
  {
   "cell_type": "code",
   "execution_count": 104,
   "id": "92a2fa39-1b58-450c-8287-bf087be5f15e",
   "metadata": {},
   "outputs": [],
   "source": [
    "class child2(parent1):\n",
    "    \n",
    "    def fun4(self):\n",
    "        print(\"this is my child 2 class\")"
   ]
  },
  {
   "cell_type": "code",
   "execution_count": 106,
   "id": "ddf2567a-72bc-431e-8af3-2fb6cbc0cc9d",
   "metadata": {},
   "outputs": [],
   "source": [
    "ch1 = child1()\n",
    "ch2 = child2()"
   ]
  },
  {
   "cell_type": "code",
   "execution_count": 108,
   "id": "024313a2-5726-416c-a28c-a4621ad68c66",
   "metadata": {},
   "outputs": [
    {
     "name": "stdout",
     "output_type": "stream",
     "text": [
      "this is my parent class\n"
     ]
    }
   ],
   "source": [
    "ch1.fun2()"
   ]
  },
  {
   "cell_type": "code",
   "execution_count": 109,
   "id": "b5fbaea5-d3c4-468f-a63b-78475d1131ce",
   "metadata": {},
   "outputs": [
    {
     "name": "stdout",
     "output_type": "stream",
     "text": [
      "this is my child 1 class\n"
     ]
    }
   ],
   "source": [
    "ch1.fun3()"
   ]
  },
  {
   "cell_type": "code",
   "execution_count": 110,
   "id": "5b7f2655-a9a8-42d1-b9ff-83cc19e3d9bc",
   "metadata": {},
   "outputs": [
    {
     "name": "stdout",
     "output_type": "stream",
     "text": [
      "this is my parent class\n"
     ]
    }
   ],
   "source": [
    "ch2.fun2()"
   ]
  },
  {
   "cell_type": "code",
   "execution_count": 111,
   "id": "373cacd9-7e87-4eb4-94b4-2be10255f9ae",
   "metadata": {},
   "outputs": [
    {
     "name": "stdout",
     "output_type": "stream",
     "text": [
      "this is my child 2 class\n"
     ]
    }
   ],
   "source": [
    "ch2.fun4()"
   ]
  },
  {
   "cell_type": "code",
   "execution_count": null,
   "id": "61a12fa2-7e83-4eac-985e-cba222342c36",
   "metadata": {},
   "outputs": [],
   "source": []
  }
 ],
 "metadata": {
  "kernelspec": {
   "display_name": "Python 3 (ipykernel)",
   "language": "python",
   "name": "python3"
  },
  "language_info": {
   "codemirror_mode": {
    "name": "ipython",
    "version": 3
   },
   "file_extension": ".py",
   "mimetype": "text/x-python",
   "name": "python",
   "nbconvert_exporter": "python",
   "pygments_lexer": "ipython3",
   "version": "3.10.8"
  }
 },
 "nbformat": 4,
 "nbformat_minor": 5
}
